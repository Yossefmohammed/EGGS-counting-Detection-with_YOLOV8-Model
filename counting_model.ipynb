{
 "cells": [
  {
   "cell_type": "code",
   "execution_count": 13,
   "id": "initial_id",
   "metadata": {
    "collapsed": true,
    "ExecuteTime": {
     "end_time": "2025-05-17T11:20:41.051617Z",
     "start_time": "2025-05-17T11:20:41.047426Z"
    }
   },
   "outputs": [],
   "source": [
    "import cv2\n",
    "from Yolo_model import YOLOSEG\n",
    "import cvzone\n",
    "from tracker import*\n",
    "import numpy as np"
   ]
  },
  {
   "cell_type": "code",
   "outputs": [],
   "source": [
    "ys = YOLOSEG(\"best.pt\")\n",
    "\n",
    "my_file = open(\"coco1.txt\", \"r\")\n",
    "data = my_file.read()\n",
    "class_list = data.split(\"\\n\")\n"
   ],
   "metadata": {
    "collapsed": false,
    "ExecuteTime": {
     "end_time": "2025-05-17T11:20:41.129888Z",
     "start_time": "2025-05-17T11:20:41.055825Z"
    }
   },
   "id": "ecf2277917bcb398",
   "execution_count": 14
  },
  {
   "cell_type": "code",
   "outputs": [],
   "source": [
    "cap=cv2.VideoCapture(\"egg.mp4\")\n",
    "count=0\n",
    "def RGB(event, x, y, flags, param):\n",
    "    if event == cv2.EVENT_MOUSEMOVE :  \n",
    "        point = [x, y]\n",
    "        print(point)\n",
    "  \n",
    "        \n",
    "\n",
    "cv2.namedWindow('RGB')\n",
    "cv2.setMouseCallback('RGB', RGB)\n",
    "tracker=Tracker()\n",
    "area=[(900,200),(500,500),(36,400)]\n",
    "counter1=[]"
   ],
   "metadata": {
    "collapsed": false,
    "ExecuteTime": {
     "end_time": "2025-05-17T11:20:41.320306Z",
     "start_time": "2025-05-17T11:20:41.132036Z"
    }
   },
   "id": "4fc3451d777971f5",
   "execution_count": 15
  },
  {
   "cell_type": "code",
   "outputs": [
    {
     "name": "stdout",
     "output_type": "stream",
     "text": [
      "0: 320x640 15 EGGs, 240.7ms\n",
      "Speed: 3.2ms preprocess, 240.7ms inference, 14.3ms postprocess per image at shape (1, 3, 320, 640)\n",
      "[205, 335]\n",
      "[204, 327]\n",
      "[204, 327]\n",
      "0: 320x640 15 EGGs, 160.6ms\n",
      "Speed: 31.5ms preprocess, 160.6ms inference, 15.2ms postprocess per image at shape (1, 3, 320, 640)\n",
      "[208, 291]\n",
      "0: 320x640 16 EGGs, 138.4ms\n",
      "Speed: 3.1ms preprocess, 138.4ms inference, 13.9ms postprocess per image at shape (1, 3, 320, 640)\n",
      "[218, 291]\n",
      "0: 320x640 14 EGGs, 140.0ms\n",
      "Speed: 3.0ms preprocess, 140.0ms inference, 12.3ms postprocess per image at shape (1, 3, 320, 640)\n",
      "[229, 291]\n",
      "0: 320x640 14 EGGs, 132.3ms\n",
      "Speed: 1.9ms preprocess, 132.3ms inference, 12.5ms postprocess per image at shape (1, 3, 320, 640)\n",
      "[230, 291]\n",
      "0: 320x640 15 EGGs, 130.7ms\n",
      "Speed: 3.0ms preprocess, 130.7ms inference, 12.3ms postprocess per image at shape (1, 3, 320, 640)\n",
      "[242, 274]\n",
      "0: 320x640 16 EGGs, 131.4ms\n",
      "Speed: 3.0ms preprocess, 131.4ms inference, 13.9ms postprocess per image at shape (1, 3, 320, 640)\n",
      "[261, 240]\n",
      "0: 320x640 16 EGGs, 124.7ms\n",
      "Speed: 3.0ms preprocess, 124.7ms inference, 13.5ms postprocess per image at shape (1, 3, 320, 640)\n",
      "0: 320x640 16 EGGs, 135.7ms\n",
      "Speed: 2.6ms preprocess, 135.7ms inference, 14.2ms postprocess per image at shape (1, 3, 320, 640)\n",
      "0: 320x640 16 EGGs, 140.2ms\n",
      "Speed: 3.3ms preprocess, 140.2ms inference, 13.9ms postprocess per image at shape (1, 3, 320, 640)\n",
      "0: 320x640 16 EGGs, 147.0ms\n",
      "Speed: 2.9ms preprocess, 147.0ms inference, 13.6ms postprocess per image at shape (1, 3, 320, 640)\n"
     ]
    }
   ],
   "source": [
    "while True:\n",
    "    ret,frame=cap.read()\n",
    "    if not ret:\n",
    "        break\n",
    "\n",
    "    frame = cv2.resize(frame, (1020, 500))\n",
    "    overlay = frame.copy()\n",
    "    alpha = 0.5\n",
    "\n",
    "    bboxes, classes, segmentations, scores = ys.detect(frame)\n",
    "    bbox_idx=tracker.update(bboxes)\n",
    "    for bbox,seg in zip(bbox_idx,segmentations):\n",
    "        x3,y3,x4,y4,id=bbox\n",
    "        cx=int(x3+x4)//2\n",
    "        cy=int(y3+y4)//2\n",
    "        result=cv2.pointPolygonTest(np.array(area,np.int32),((cx,cy)),False)\n",
    "        if result>=0:\n",
    " #       cv2.rectangle(frame, (x3, y3), (x4, y4), (255, 0, 0), 2)    \n",
    "#           cv2.polylines(frame, [seg], True, (0, 0, 255), 4)\n",
    "           cv2.circle(frame,(cx,cy),4,(0,255,0),-1)\n",
    "           cv2.fillPoly(overlay, [seg], (0,0,255))\n",
    "           cv2.addWeighted(overlay, alpha, frame, 1 - alpha, 2, frame)\n",
    "           cvzone.putTextRect(frame, f'{id}', (x3,y3),1,1)\n",
    "           if counter1.count(id)==0:\n",
    "              counter1.append(id) \n",
    "    cv2.polylines(frame,[np.array(area,np.int32)],True,(255,0,0),2)\n",
    "    ca1=len(counter1)\n",
    "    cvzone.putTextRect(frame, f'CA:-{ca1}', (50,60),2,2)\n",
    "\n",
    "    cv2.imshow(\"RGB\",frame)\n",
    "    if cv2.waitKey(1)&0xFF==27:\n",
    "        break\n",
    "cap.release()\n",
    "cv2.destroyAllWindows()"
   ],
   "metadata": {
    "collapsed": false,
    "ExecuteTime": {
     "end_time": "2025-05-17T11:20:43.854601Z",
     "start_time": "2025-05-17T11:20:41.322467Z"
    }
   },
   "id": "aafb1057fb96b8c5",
   "execution_count": 16
  },
  {
   "cell_type": "code",
   "outputs": [],
   "source": [],
   "metadata": {
    "collapsed": false,
    "ExecuteTime": {
     "end_time": "2025-05-17T11:20:43.861755Z",
     "start_time": "2025-05-17T11:20:43.857863Z"
    }
   },
   "id": "6edff7fa01a7cebd",
   "execution_count": 16
  },
  {
   "cell_type": "code",
   "outputs": [],
   "source": [],
   "metadata": {
    "collapsed": false,
    "ExecuteTime": {
     "end_time": "2025-05-17T11:20:43.868183Z",
     "start_time": "2025-05-17T11:20:43.864409Z"
    }
   },
   "id": "c619fadc6487a5b9",
   "execution_count": 16
  },
  {
   "cell_type": "code",
   "outputs": [],
   "source": [],
   "metadata": {
    "collapsed": false,
    "ExecuteTime": {
     "end_time": "2025-05-17T11:20:43.873082Z",
     "start_time": "2025-05-17T11:20:43.870262Z"
    }
   },
   "id": "43abf7130e3f2dfc",
   "execution_count": 16
  }
 ],
 "metadata": {
  "kernelspec": {
   "display_name": "Python 3",
   "language": "python",
   "name": "python3"
  },
  "language_info": {
   "codemirror_mode": {
    "name": "ipython",
    "version": 2
   },
   "file_extension": ".py",
   "mimetype": "text/x-python",
   "name": "python",
   "nbconvert_exporter": "python",
   "pygments_lexer": "ipython2",
   "version": "2.7.6"
  }
 },
 "nbformat": 4,
 "nbformat_minor": 5
}
